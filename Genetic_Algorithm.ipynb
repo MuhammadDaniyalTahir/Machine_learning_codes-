{
 "cells": [
  {
   "cell_type": "code",
   "execution_count": null,
   "id": "839ad21d-347f-4e7d-bb48-0a33be7859b7",
   "metadata": {},
   "outputs": [],
   "source": [
    "import matplotlib.pyplot as plt\n",
    "import numpy as np\n",
    "\n",
    "# Define grid size\n",
    "GRID_SIZE = 40\n",
    "\n",
    "# Define starting point and destination\n",
    "start = (2, 3)\n",
    "destination = (38, 39)\n",
    "\n",
    "# Define obstacles\n",
    "obstacles = [(5, 5), (10, 10), (15, 15), (20, 20), (25, 25), (30, 30), (35, 35)]\n",
    "\n",
    "# Define path (sample path)\n",
    "path = [(2, 3), (3, 3), (4, 3), (5, 4), (6, 5), (7, 6), (8, 7), (9, 8), (10, 9), (11, 10), (12, 11), (13, 12),\n",
    "        (14, 13), (15, 14), (16, 15), (17, 16), (18, 17), (19, 18), (20, 19), (21, 20), (22, 21), (23, 22), (24, 23),\n",
    "        (25, 24), (26, 25), (27, 26), (28, 27), (29, 28), (30, 29), (31, 30), (32, 31), (33, 32), (34, 33), (35, 34),\n",
    "        (36, 35), (37, 36), (38, 37), (38, 38), (38, 39)]\n",
    "\n",
    "# Create grid\n",
    "grid = np.zeros((GRID_SIZE, GRID_SIZE))\n",
    "print(type(grid))\n",
    "\n",
    "# Place obstacles\n",
    "for obstacle in obstacles:\n",
    "    grid[obstacle] = 1\n"
   ]
  }
 ],
 "metadata": {
  "kernelspec": {
   "display_name": "Python 3 (ipykernel)",
   "language": "python",
   "name": "python3"
  },
  "language_info": {
   "codemirror_mode": {
    "name": "ipython",
    "version": 3
   },
   "file_extension": ".py",
   "mimetype": "text/x-python",
   "name": "python",
   "nbconvert_exporter": "python",
   "pygments_lexer": "ipython3",
   "version": "3.12.2"
  }
 },
 "nbformat": 4,
 "nbformat_minor": 5
}
