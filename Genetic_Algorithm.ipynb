{
 "cells": [
  {
   "cell_type": "code",
   "execution_count": 115,
   "id": "839ad21d-347f-4e7d-bb48-0a33be7859b7",
   "metadata": {},
   "outputs": [],
   "source": [
    "import numpy as np\n",
    "import random\n",
    "\n",
    "# Define grid size\n",
    "GRID_SIZE = 40\n",
    "\n",
    "# Define starting point and destination\n",
    "start = (2, 3)\n",
    "destination = (38, 39)\n",
    "\n",
    "population_size = 20\n",
    "chromosome_size = 10\n",
    "\n",
    "no_of_obstacles = 40\n",
    "# # Create grid\n",
    "grid = np.zeros((GRID_SIZE, GRID_SIZE), dtype=bool)\n"
   ]
  },
  {
   "cell_type": "code",
   "execution_count": 116,
   "id": "454d82ab-535b-4135-9ae6-345f06abbc6f",
   "metadata": {},
   "outputs": [],
   "source": [
    "# Define obstacles\n",
    "for x in range(no_of_obstacles):\n",
    "    x = random.randint(0, 39)\n",
    "    y = random.randint(0, 39)\n",
    "    if(grid[(x,y)] != True): # so that duplicate obstacle not occur.\n",
    "        grid[(x,y)] = True\n",
    "    else:\n",
    "        x = x - 1\n"
   ]
  },
  {
   "cell_type": "code",
   "execution_count": 130,
   "id": "d16354e9-ba13-49bb-abf6-5ded6b5818b2",
   "metadata": {},
   "outputs": [],
   "source": [
    "# Making Chromosomes(population)\n",
    "\n",
    "\n",
    "chromosomes = []\n",
    "for x in range(population_size):\n",
    "    row = []\n",
    "    for y in range(10):\n",
    "        if y == 0:\n",
    "            row.append(start)\n",
    "            continue\n",
    "        elif y == 9:\n",
    "            row.append(destination)\n",
    "            continue\n",
    "        x_index = random.randint(0, 39)\n",
    "        y_index = random.randint(0, 39)\n",
    "        while (x_index, y_index) in row:\n",
    "            x_index = random.randint(0, 39)\n",
    "            y_index = random.randint(0, 39)\n",
    "        row.append((x_index, y_index))\n",
    "    chromosomes.append([row, x])\n"
   ]
  },
  {
   "cell_type": "code",
   "execution_count": 138,
   "id": "5d367b9b-619c-40ff-91be-30aae1fb0e0a",
   "metadata": {},
   "outputs": [
    {
     "name": "stdout",
     "output_type": "stream",
     "text": [
      "0\n",
      "1\n",
      "2\n",
      "3\n",
      "4\n",
      "5\n",
      "6\n",
      "7\n",
      "8\n",
      "9\n",
      "10\n",
      "11\n",
      "12\n",
      "13\n",
      "14\n",
      "15\n",
      "16\n",
      "17\n",
      "18\n",
      "19\n",
      "157\n",
      "217\n",
      "204\n",
      "170\n",
      "173\n",
      "232\n",
      "181\n",
      "223\n",
      "156\n",
      "169\n",
      "184\n",
      "165\n",
      "153\n",
      "146\n",
      "145\n",
      "119\n",
      "187\n",
      "206\n",
      "193\n",
      "174\n"
     ]
    }
   ],
   "source": [
    "# our fitness formula will be (distance + no. of obstacles) \n",
    "#more the value, lesser fit is the chromosome\n",
    "\n",
    "#Calculating the fitness of each chromosome.\n",
    "for x in range(population_size):\n",
    "    fitness = 0\n",
    "    for y in range(chromosome_size - 1):\n",
    "        x_dist = abs(chromosomes[x][0][y][0] - chromosomes[x][0][y+1][0])\n",
    "        y_dist = abs(chromosomes[x][0][y][1] - chromosomes[x][0][y+1][1])\n",
    "        fitness += x_dist if (x_dist > y_dist) else y_dist\n",
    "        if grid[chromosomes[x][0][y]] == True:\n",
    "            fitness += 1\n",
    "    if grid[chromosomes[x][0][9]] == True:\n",
    "            fitness += 1\n",
    "    chromosomes[x][1] = fitness\n",
    "\n",
    "#code to print fitness of each chromosome\n",
    "for x in range(population_size):\n",
    "    print(chromosomes[x][1])\n",
    "\n",
    "    "
   ]
  },
  {
   "cell_type": "code",
   "execution_count": null,
   "id": "9937bbc9-dbe9-4081-9a7f-e9940a838e63",
   "metadata": {},
   "outputs": [],
   "source": []
  }
 ],
 "metadata": {
  "kernelspec": {
   "display_name": "Python 3 (ipykernel)",
   "language": "python",
   "name": "python3"
  },
  "language_info": {
   "codemirror_mode": {
    "name": "ipython",
    "version": 3
   },
   "file_extension": ".py",
   "mimetype": "text/x-python",
   "name": "python",
   "nbconvert_exporter": "python",
   "pygments_lexer": "ipython3",
   "version": "3.12.2"
  }
 },
 "nbformat": 4,
 "nbformat_minor": 5
}
